{
 "cells": [
  {
   "cell_type": "code",
   "execution_count": 1,
   "metadata": {},
   "outputs": [],
   "source": [
    "# The expected input file must have the following columns:\n",
    "# \"ID Lattes\" containing the 16-digit number associated with a Lattes CV \n",
    "# \"ID Scholar\" containing the 12-character code associated with a Google Scholar profile\n",
    "# Extra colums will be ignored.\n",
    "# The order of the columns does not matter\n",
    "# The file should use tabs as separator of columns\n",
    "# The file should use comma as decimal separator\n",
    "import pandas as pd\n",
    "file = 'professores.csv'\n",
    "df = pd.read_csv(file, sep='\\t', decimal=',', dtype={'ID Lattes': object})"
   ]
  },
  {
   "cell_type": "code",
   "execution_count": 2,
   "metadata": {},
   "outputs": [
    {
     "name": "stdout",
     "output_type": "stream",
     "text": [
      "Processing 39 researchers...\n",
      "\n",
      "Alexandre Plastino de Carvalho... ok (3%).\n",
      "Aline Marins Paes Carvalho... ok (5%).\n",
      "Anselmo Antunes Montenegro... ok (8%).\n",
      "Antonio Augusto de Aragao Rocha... ok (10%).\n",
      "Aura Conci... ok (13%).\n",
      "Bruno Lopes Vieira... ok (15%).\n",
      "Carlos Alberto de Jesus Martinhon... ok (18%).\n",
      "Célio Vinicius Neves de Albuquerque... ok (21%).\n",
      "Celso da Cruz Carneiro Ribeiro... ok (23%).\n",
      "Christiano de Oliveira Braga... ok (26%).\n",
      "Cristina Nader Vasconcelos... ok (28%).\n",
      "Daniel Cardoso Moraes de Oliveira... ok (31%).\n",
      "Daniela Gorski Trevisan... ok (33%).\n",
      "Debora Christina Muchaluat Saade... ok (36%).\n",
      "Diego Gimenez Passos... ok (38%).\n",
      "Esteban Walter Gonzalez Clua... ok (41%).\n",
      "Eugene Francis Vinod Rebello... ok (44%).\n",
      "Fábio Protti... ok (46%).\n",
      "Igor Monteiro Moraes... ok (49%).\n",
      "Jose Ricardo de Almeida Torreao... ok (51%).\n",
      "José Viterbo Filho... ok (54%).\n",
      "Julio Cesar Stacchini de Souza... ok (56%).\n",
      "Leandro Augusto Frata Fernandes... ok (59%).\n",
      "Leonardo Gresta Paulino Murta... ok (62%).\n",
      "Loana Tito Nogueira... ok (64%).\n",
      "Lúcia Maria de Assumpção Drummond... ok (67%).\n",
      "Luciana Cardoso de Castro Salgado... ok (69%).\n",
      "Luis Antonio Brasil Kowada... ok (72%).\n",
      "Luis Martí Orosa... ok (74%).\n",
      "Luiz André Portes Paes Leme... ok (77%).\n",
      "Luiz Satoru Ochi... ok (79%).\n",
      "Marcos de Oliveira Lage Ferreira... ok (82%).\n",
      "Milton Brown Do Coutto Filho... ok (85%).\n",
      "Orlando Gomes Loques Filho... ok (87%).\n",
      "Simone de Lima Martins... ok (90%).\n",
      "Uéverton dos Santos Souza... ok (92%).\n",
      "Vanessa Braganholo Murta... ok (95%).\n",
      "Viviane Torres da Silva... ok (97%).\n",
      "Yuri Abitbol de Menezes Frota... ok (100%).\n",
      "\n",
      "Finished.\n"
     ]
    }
   ],
   "source": [
    "import bibliometrics\n",
    "\n",
    "max = len(df)\n",
    "print('Processing', max, 'researchers...\\n')\n",
    "\n",
    "for i, row in df.iterrows():\n",
    "    profile = row.to_dict()\n",
    "    print(profile['Nome'], end = '... ')\n",
    "    if not pd.isnull(profile['ID Lattes']):\n",
    "        profile.update(bibliometrics.lattes(profile['ID Lattes']))\n",
    "    if not pd.isnull(profile['ID Scholar']):\n",
    "        profile.update(bibliometrics.scholar(profile['ID Scholar']))\n",
    "    profile.update(bibliometrics.normalized(profile))\n",
    "    for key, value in profile.items():\n",
    "        df.at[i, key] = value\n",
    "    print('ok ({:.0f}%).'.format((i+1)/max * 100))\n",
    "\n",
    "print(\"\\nFinished.\")"
   ]
  },
  {
   "cell_type": "code",
   "execution_count": 3,
   "metadata": {},
   "outputs": [],
   "source": [
    "df.to_csv(file, sep='\\t', decimal=',', index=False)"
   ]
  }
 ],
 "metadata": {
  "kernelspec": {
   "display_name": "Python 3",
   "language": "python",
   "name": "python3"
  },
  "language_info": {
   "codemirror_mode": {
    "name": "ipython",
    "version": 3
   },
   "file_extension": ".py",
   "mimetype": "text/x-python",
   "name": "python",
   "nbconvert_exporter": "python",
   "pygments_lexer": "ipython3",
   "version": "3.6.4"
  }
 },
 "nbformat": 4,
 "nbformat_minor": 2
}
