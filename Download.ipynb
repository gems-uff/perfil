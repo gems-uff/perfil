{
 "cells": [
  {
   "cell_type": "code",
   "execution_count": 1,
   "metadata": {},
   "outputs": [],
   "source": [
    "from config import researchers_file\n",
    "import pandas as pd\n",
    "\n",
    "df = pd.read_csv(researchers_file, sep='\\t', decimal=',', dtype={'ID Lattes': object})"
   ]
  },
  {
   "cell_type": "code",
   "execution_count": 2,
   "metadata": {},
   "outputs": [
    {
     "name": "stdout",
     "output_type": "stream",
     "text": [
      "Processing 26 researchers...\n",
      "\n",
      "Antonio Marinho Pilla Barcellos... ok (4%).\n",
      "Bruno Feijo... ok (8%).\n",
      "Bruno Richard Schulze... ok (12%).\n",
      "Carlos Becker Westphall... ok (15%).\n",
      "Célio Vinicius Neves de Albuquerque... ok (19%).\n",
      "Claudia Linhares Sales... ok (23%).\n",
      "Daniel Schwabe... ok (27%).\n",
      "Edmundo Roberto Mauro Madeira... ok (31%).\n",
      "Eduardo Camponogara... ok (35%).\n",
      "Fabio Kon... ok (38%).\n",
      "Gerson Zaverucha... ok (42%).\n",
      "Jacques Wainer... ok (46%).\n",
      "João Paulo Papa... ok (50%).\n",
      "José Ferreira de Rezende... ok (54%).\n",
      "Jose Neuman de Souza... ok (58%).\n",
      "Julio Cesar Sampaio do Prado Leite... ok (62%).\n",
      "Lúcia Maria de Assumpção Drummond... ok (65%).\n",
      "Luiza de Macedo Mourelle... ok (69%).\n",
      "Marcelo Henriques de Carvalho... ok (73%).\n",
      "Mauricio Ayala Rincon... ok (77%).\n",
      "Nadia Nedjah... ok (81%).\n",
      "Olga Regina Pereira Bellon... ok (85%).\n",
      "Paulo Henrique Monteiro Borba... ok (88%).\n",
      "Paulo Roberto Oliveira... ok (92%).\n",
      "Renato Antonio Celso Ferreira... ok (96%).\n",
      "Simone Dantas de Souza... ok (100%).\n",
      "\n",
      "Finished.\n"
     ]
    }
   ],
   "source": [
    "import bibliometrics\n",
    "\n",
    "max = len(df)\n",
    "print('Processing', max, 'researchers...\\n')\n",
    "\n",
    "for i, row in df.iterrows():\n",
    "    profile = row.to_dict()\n",
    "    print(profile['Nome'], end = '... ')\n",
    "    if not pd.isnull(profile['ID Lattes']):\n",
    "        bibliometrics.download(profile['ID Lattes'])\n",
    "    print('ok ({:.0f}%).'.format((i+1)/max * 100))\n",
    "    \n",
    "print(\"\\nFinished.\")"
   ]
  }
 ],
 "metadata": {
  "kernelspec": {
   "display_name": "Python 3",
   "language": "python",
   "name": "python3"
  },
  "language_info": {
   "codemirror_mode": {
    "name": "ipython",
    "version": 3
   },
   "file_extension": ".py",
   "mimetype": "text/x-python",
   "name": "python",
   "nbconvert_exporter": "python",
   "pygments_lexer": "ipython3",
   "version": "3.6.4"
  }
 },
 "nbformat": 4,
 "nbformat_minor": 2
}
