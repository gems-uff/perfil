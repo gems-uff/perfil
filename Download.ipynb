{
 "cells": [
  {
   "cell_type": "code",
   "execution_count": 1,
   "metadata": {},
   "outputs": [],
   "source": [
    "from config import researchers_file\n",
    "import pandas as pd\n",
    "\n",
    "df = pd.read_csv(researchers_file, sep='\\t', decimal=',', dtype={'ID Lattes': object})"
   ]
  },
  {
   "cell_type": "code",
   "execution_count": 2,
   "metadata": {},
   "outputs": [
    {
     "name": "stdout",
     "output_type": "stream",
     "text": [
      "Processing 53 researchers...\n",
      "\n",
      "Alba Cristina Magalhães Alves de Melo... ok (2%).\n",
      "Alceu de Souza Britto Jr... ok (4%).\n",
      "Antonio Marinho Pilla Barcellos... ok (6%).\n",
      "Artur Ziviani... ok (8%).\n",
      "Bruno Feijo... ok (9%).\n",
      "Bruno Richard Schulze... ok (11%).\n",
      "Carlos Becker Westphall... ok (13%).\n",
      "Carlos Eduardo Ferreira... ok (15%).\n",
      "Célio Vinicius Neves de Albuquerque... ok (17%).\n",
      "Claudia Linhares Sales... ok (19%).\n",
      "Claudia Maria Lima Werner... ok (21%).\n",
      "Cristina Gomes Fernandes... ok (23%).\n",
      "Daniel Schwabe... ok (25%).\n",
      "Edmundo Roberto Mauro Madeira... ok (26%).\n",
      "Eduardo Coelho Cerqueira... ok (28%).\n",
      "Eduardo Santana de Almeida... ok (30%).\n",
      "Elias Procópio Duarte Júnior... ok (32%).\n",
      "Estevam Rafael Hruschka Júnior... ok (34%).\n",
      "Fabian Luis Vargas... ok (36%).\n",
      "Fabio Kon... ok (38%).\n",
      "Flávia Coimbra Delicato... ok (40%).\n",
      "George Darmiton da Cunha Cavalcanti... ok (42%).\n",
      "Gerson Zaverucha... ok (43%).\n",
      "Guilherme Horta Travassos... ok (45%).\n",
      "João Paulo Papa... ok (47%).\n",
      "Joni da Silva Fraga... ok (49%).\n",
      "José Ferreira de Rezende... ok (51%).\n",
      "Jose Neuman de Souza... ok (53%).\n",
      "Judith Kelner... ok (55%).\n",
      "Julio Cesar Sampaio do Prado Leite... ok (57%).\n",
      "Lúcia Maria de Assumpção Drummond... ok (58%).\n",
      "Luciana Salete Buriol... ok (60%).\n",
      "Luciano Paschoal Gaspary... ok (62%).\n",
      "Luciano Silva... ok (64%).\n",
      "Luerbio Faria... ok (66%).\n",
      "Luiz Eduardo Soares de Oliveira... ok (68%).\n",
      "Luiza de Macedo Mourelle... ok (70%).\n",
      "Marcelo Henriques de Carvalho... ok (72%).\n",
      "Marco Tulio de Oliveira Valente... ok (74%).\n",
      "Marcos Roberto da Silva Borges... ok (75%).\n",
      "Maria da Graca Campos Pimentel... ok (77%).\n",
      "Mauricio Ayala Rincon... ok (79%).\n",
      "Mitre Costa Dourado... ok (81%).\n",
      "Nadia Nedjah... ok (83%).\n",
      "Olga Regina Pereira Bellon... ok (85%).\n",
      "Paulo Henrique Monteiro Borba... ok (87%).\n",
      "Paulo Roberto Oliveira... ok (89%).\n",
      "Renato Antonio Celso Ferreira... ok (91%).\n",
      "Renato Portugal... ok (92%).\n",
      "Rosane Minghim... ok (94%).\n",
      "Simone Dantas de Souza... ok (96%).\n",
      "Soraia Raupp Musse... ok (98%).\n",
      "Thais Vasconcelos Batista... ok (100%).\n",
      "\n",
      "Finished.\n"
     ]
    }
   ],
   "source": [
    "import bibliometrics\n",
    "\n",
    "max = len(df)\n",
    "print('Processing', max, 'researchers...\\n')\n",
    "\n",
    "for i, row in df.iterrows():\n",
    "    profile = row.to_dict()\n",
    "    print(profile['Nome'], end = '... ')\n",
    "    if not pd.isnull(profile['ID Lattes']):\n",
    "        bibliometrics.download(profile['ID Lattes'])\n",
    "    print('ok ({:.0f}%).'.format((i+1)/max * 100))\n",
    "    \n",
    "print(\"\\nFinished.\")"
   ]
  },
  {
   "cell_type": "code",
   "execution_count": null,
   "metadata": {},
   "outputs": [],
   "source": []
  }
 ],
 "metadata": {
  "kernelspec": {
   "display_name": "Python 3",
   "language": "python",
   "name": "python3"
  },
  "language_info": {
   "codemirror_mode": {
    "name": "ipython",
    "version": 3
   },
   "file_extension": ".py",
   "mimetype": "text/x-python",
   "name": "python",
   "nbconvert_exporter": "python",
   "pygments_lexer": "ipython3",
   "version": "3.6.5"
  }
 },
 "nbformat": 4,
 "nbformat_minor": 2
}
