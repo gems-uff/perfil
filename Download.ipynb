{
 "cells": [
  {
   "cell_type": "code",
   "execution_count": 1,
   "metadata": {},
   "outputs": [],
   "source": [
    "from config import researchers_file\n",
    "import pandas as pd\n",
    "\n",
    "df = pd.read_excel(researchers_file, dtype={'ID Lattes': object})"
   ]
  },
  {
   "cell_type": "code",
   "execution_count": 2,
   "metadata": {},
   "outputs": [
    {
     "name": "stdout",
     "output_type": "stream",
     "text": [
      "Processing 39 researchers...\n",
      "\n",
      "Alexandre Plastino de Carvalho... ok (3%).\n",
      "Aline Marins Paes Carvalho... ok (5%).\n",
      "Anselmo Antunes Montenegro... retrying... ok (8%).\n",
      "Antonio Augusto de Aragao Rocha... ok (10%).\n",
      "Aura Conci... ok (13%).\n",
      "Bruno Lopes Vieira... retrying... ok (15%).\n",
      "Carlos Alberto de Jesus Martinhon... retrying... ok (18%).\n",
      "Célio Vinicius Neves de Albuquerque... retrying... retrying... ok (21%).\n",
      "Celso da Cruz Carneiro Ribeiro... ok (23%).\n",
      "Christiano de Oliveira Braga... retrying... ok (26%).\n",
      "Cristina Nader Vasconcelos... ok (28%).\n",
      "Daniel Cardoso Moraes de Oliveira... retrying... ok (31%).\n",
      "Daniela Gorski Trevisan... ok (33%).\n",
      "Debora Christina Muchaluat Saade... ok (36%).\n",
      "Diego Gimenez Passos... ok (38%).\n",
      "Esteban Walter Gonzalez Clua... ok (41%).\n",
      "Eugene Francis Vinod Rebello... ok (44%).\n",
      "Fábio Protti... ok (46%).\n",
      "Igor Monteiro Moraes... ok (49%).\n",
      "Jose Ricardo de Almeida Torreao... ok (51%).\n",
      "José Viterbo Filho... retrying... ok (54%).\n",
      "Julio Cesar Stacchini de Souza... retrying... ok (56%).\n",
      "Leandro Augusto Frata Fernandes... ok (59%).\n",
      "Leonardo Gresta Paulino Murta... retrying... ok (62%).\n",
      "Loana Tito Nogueira... ok (64%).\n",
      "Lúcia Maria de Assumpção Drummond... ok (67%).\n",
      "Luciana Cardoso de Castro Salgado... ok (69%).\n",
      "Luis Antonio Brasil Kowada... ok (72%).\n",
      "Luis Martí Orosa... retrying... retrying... ok (74%).\n",
      "Luiz André Portes Paes Leme... retrying... ok (77%).\n",
      "Luiz Satoru Ochi... ok (79%).\n",
      "Marcos de Oliveira Lage Ferreira... ok (82%).\n",
      "Milton Brown Do Coutto Filho... ok (85%).\n",
      "Orlando Gomes Loques Filho... retrying... ok (87%).\n",
      "Simone de Lima Martins... ok (90%).\n",
      "Uéverton dos Santos Souza... ok (92%).\n",
      "Vanessa Braganholo Murta... ok (95%).\n",
      "Viviane Torres da Silva... ok (97%).\n",
      "Yuri Abitbol de Menezes Frota... ok (100%).\n",
      "\n",
      "Finished.\n"
     ]
    }
   ],
   "source": [
    "import bibliometrics\n",
    "\n",
    "max = len(df)\n",
    "print('Processing', max, 'researchers...\\n')\n",
    "\n",
    "for i, row in df.iterrows():\n",
    "    profile = row.to_dict()\n",
    "    print(profile['Nome'], end = '... ')\n",
    "    if not pd.isnull(profile['ID Lattes']):\n",
    "        bibliometrics.download(profile['ID Lattes'])\n",
    "    print('ok ({:.0f}%).'.format((i+1)/max * 100))\n",
    "    \n",
    "print(\"\\nFinished.\")"
   ]
  },
  {
   "cell_type": "code",
   "execution_count": null,
   "metadata": {},
   "outputs": [],
   "source": []
  }
 ],
 "metadata": {
  "kernelspec": {
   "display_name": "Python 3",
   "language": "python",
   "name": "python3"
  },
  "language_info": {
   "codemirror_mode": {
    "name": "ipython",
    "version": 3
   },
   "file_extension": ".py",
   "mimetype": "text/x-python",
   "name": "python",
   "nbconvert_exporter": "python",
   "pygments_lexer": "ipython3",
   "version": "3.6.6"
  }
 },
 "nbformat": 4,
 "nbformat_minor": 2
}
